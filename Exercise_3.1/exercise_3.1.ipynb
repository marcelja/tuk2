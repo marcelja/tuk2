{
 "cells": [
  {
   "cell_type": "code",
   "execution_count": 1,
   "metadata": {},
   "outputs": [],
   "source": [
    "import pyhdb\n",
    "import yaml\n",
    "import pandas as pd\n",
    "import numpy as np"
   ]
  },
  {
   "cell_type": "markdown",
   "metadata": {},
   "source": [
    "# Establishing connection to HANA"
   ]
  },
  {
   "cell_type": "code",
   "execution_count": 2,
   "metadata": {},
   "outputs": [],
   "source": [
    "with open('../credentials.yml', 'r') as f:\n",
    "    credentials = yaml.load(f)"
   ]
  },
  {
   "cell_type": "code",
   "execution_count": null,
   "metadata": {},
   "outputs": [],
   "source": [
    "connection = pyhdb.connect(**credentials)\n",
    "cursor = connection.cursor()"
   ]
  },
  {
   "cell_type": "markdown",
   "metadata": {},
   "source": [
    "# Get Data"
   ]
  },
  {
   "cell_type": "markdown",
   "metadata": {},
   "source": [
    "Since 0 is not valid year we can work with, we filter by $year \\neq 0$"
   ]
  },
  {
   "cell_type": "code",
   "execution_count": 49,
   "metadata": {},
   "outputs": [
    {
     "data": {
      "text/plain": [
       "[(0,), (2009,), (2010,), (2011,), (2012,)]"
      ]
     },
     "execution_count": 49,
     "metadata": {},
     "output_type": "execute_result"
    }
   ],
   "source": [
    "# Distinct years contain 0\n",
    "query = 'SELECT DISTINCT VISITYEAR FROM TUKGRP4.\"Transcript\"'\n",
    "cursor.execute(query)\n",
    "cursor.fetchall()"
   ]
  },
  {
   "cell_type": "markdown",
   "metadata": {},
   "source": [
    "We decided to build every age group by subtracting the birth year from 2012 to avoid that someone is occuring in two age groups. \n",
    "The following query does a subquey first which selects the doc visits per user. Afterwards the case statement is generating the age groups"
   ]
  },
  {
   "cell_type": "code",
   "execution_count": 50,
   "metadata": {},
   "outputs": [],
   "source": [
    "# Select doc visits by age group\n",
    "query = \\\n",
    "'''\n",
    "    SELECT agegroup, AVG(visits), MIN(visits), MAX(visits), MEDIAN(visits)\n",
    "    FROM (\n",
    "    SELECT *,\n",
    "      CASE\n",
    "      WHEN AGE < 10 THEN 1\n",
    "      WHEN AGE < 20 THEN 2\n",
    "      WHEN AGE < 30 THEN 3\n",
    "      WHEN AGE < 40 THEN 4\n",
    "      WHEN AGE < 50 THEN 5\n",
    "      WHEN AGE < 60 THEN 6\n",
    "      WHEN AGE < 70 THEN 7\n",
    "      WHEN AGE < 80 THEN 8\n",
    "      WHEN AGE < 90 THEN 9\n",
    "      ELSE 10 END AS agegroup\n",
    "    FROM (\n",
    "      SELECT\n",
    "        t.PATIENTGUID,\n",
    "        2012 - p.YEAROFBIRTH as age,\n",
    "        COUNT(t.VISITYEAR) as visits\n",
    "      FROM TUKGRP4.\"Transcript\" AS t\n",
    "        JOIN TUKGRP4.\"Patient\" AS p ON t.PATIENTGUID = p.PATIENTGUID\n",
    "      WHERE t.VISITYEAR != 0\n",
    "      GROUP BY t.PATIENTGUID, p.YEAROFBIRTH\n",
    "    )\n",
    "    ) GROUP BY agegroup;\n",
    "'''\n",
    "cursor.execute(query)\n",
    "agg_data = cursor.fetchall()[::-1]"
   ]
  },
  {
   "cell_type": "markdown",
   "metadata": {},
   "source": [
    "Below you can see a data frame showing three aggregrations of the resulting agregroups. This data frame is used all the future computations"
   ]
  },
  {
   "cell_type": "code",
   "execution_count": 51,
   "metadata": {},
   "outputs": [
    {
     "data": {
      "text/html": [
       "<div>\n",
       "<style scoped>\n",
       "    .dataframe tbody tr th:only-of-type {\n",
       "        vertical-align: middle;\n",
       "    }\n",
       "\n",
       "    .dataframe tbody tr th {\n",
       "        vertical-align: top;\n",
       "    }\n",
       "\n",
       "    .dataframe thead th {\n",
       "        text-align: right;\n",
       "    }\n",
       "</style>\n",
       "<table border=\"1\" class=\"dataframe\">\n",
       "  <thead>\n",
       "    <tr style=\"text-align: right;\">\n",
       "      <th></th>\n",
       "      <th>group</th>\n",
       "      <th>avg</th>\n",
       "      <th>min</th>\n",
       "      <th>max</th>\n",
       "      <th>median</th>\n",
       "    </tr>\n",
       "  </thead>\n",
       "  <tbody>\n",
       "    <tr>\n",
       "      <th>0</th>\n",
       "      <td>2</td>\n",
       "      <td>10.163461</td>\n",
       "      <td>2</td>\n",
       "      <td>92</td>\n",
       "      <td>7</td>\n",
       "    </tr>\n",
       "    <tr>\n",
       "      <th>1</th>\n",
       "      <td>3</td>\n",
       "      <td>11.148331</td>\n",
       "      <td>1</td>\n",
       "      <td>104</td>\n",
       "      <td>8</td>\n",
       "    </tr>\n",
       "    <tr>\n",
       "      <th>2</th>\n",
       "      <td>4</td>\n",
       "      <td>11.146517</td>\n",
       "      <td>1</td>\n",
       "      <td>218</td>\n",
       "      <td>7</td>\n",
       "    </tr>\n",
       "    <tr>\n",
       "      <th>3</th>\n",
       "      <td>5</td>\n",
       "      <td>11.945614</td>\n",
       "      <td>1</td>\n",
       "      <td>252</td>\n",
       "      <td>8</td>\n",
       "    </tr>\n",
       "    <tr>\n",
       "      <th>4</th>\n",
       "      <td>6</td>\n",
       "      <td>13.010355</td>\n",
       "      <td>1</td>\n",
       "      <td>260</td>\n",
       "      <td>9</td>\n",
       "    </tr>\n",
       "    <tr>\n",
       "      <th>5</th>\n",
       "      <td>7</td>\n",
       "      <td>13.399787</td>\n",
       "      <td>3</td>\n",
       "      <td>275</td>\n",
       "      <td>9</td>\n",
       "    </tr>\n",
       "    <tr>\n",
       "      <th>6</th>\n",
       "      <td>8</td>\n",
       "      <td>13.351435</td>\n",
       "      <td>1</td>\n",
       "      <td>130</td>\n",
       "      <td>10</td>\n",
       "    </tr>\n",
       "    <tr>\n",
       "      <th>7</th>\n",
       "      <td>9</td>\n",
       "      <td>15.833333</td>\n",
       "      <td>1</td>\n",
       "      <td>136</td>\n",
       "      <td>12</td>\n",
       "    </tr>\n",
       "    <tr>\n",
       "      <th>8</th>\n",
       "      <td>10</td>\n",
       "      <td>14.871794</td>\n",
       "      <td>3</td>\n",
       "      <td>41</td>\n",
       "      <td>11</td>\n",
       "    </tr>\n",
       "  </tbody>\n",
       "</table>\n",
       "</div>"
      ],
      "text/plain": [
       "   group        avg  min  max  median\n",
       "0      2  10.163461    2   92       7\n",
       "1      3  11.148331    1  104       8\n",
       "2      4  11.146517    1  218       7\n",
       "3      5  11.945614    1  252       8\n",
       "4      6  13.010355    1  260       9\n",
       "5      7  13.399787    3  275       9\n",
       "6      8  13.351435    1  130      10\n",
       "7      9  15.833333    1  136      12\n",
       "8     10  14.871794    3   41      11"
      ]
     },
     "execution_count": 51,
     "metadata": {},
     "output_type": "execute_result"
    }
   ],
   "source": [
    "df = pd.DataFrame(agg_data)\n",
    "df.columns = ['group', 'avg', 'min', 'max', 'median']\n",
    "df"
   ]
  },
  {
   "cell_type": "markdown",
   "metadata": {},
   "source": [
    "# Analysis"
   ]
  },
  {
   "cell_type": "code",
   "execution_count": 52,
   "metadata": {},
   "outputs": [],
   "source": [
    "def generate_range(size):\n",
    "    start = 10\n",
    "    for _ in range(size):\n",
    "        yield '<{}'.format(start)\n",
    "        start += 10"
   ]
  },
  {
   "cell_type": "code",
   "execution_count": 236,
   "metadata": {},
   "outputs": [],
   "source": [
    "from scipy.interpolate import interp1d\n",
    "\n",
    "DEGREE = 3\n",
    "\n",
    "def get_interpolate_func(data):\n",
    "    x = range(len(data))\n",
    "    y = data\n",
    "    z = np.polyfit(x, y.map(lambda x: float(x)), DEGREE)\n",
    "    return np.poly1d(z)"
   ]
  },
  {
   "cell_type": "code",
   "execution_count": 239,
   "metadata": {},
   "outputs": [],
   "source": [
    "from sklearn.metrics import mean_squared_error\n",
    "\n",
    "def plot_interpolated_points(series, label, plt, plot_type):\n",
    "    entries = range(len(series))\n",
    "    func = get_interpolate_func(series)\n",
    "    plt.plot(series , plot_type, label=label)\n",
    "    interpolated_points = [func(x) for x in entries]\n",
    "    plt.plot(interpolated_points)\n",
    "    return round(mean_squared_error(series, interpolated_points), 3)"
   ]
  },
  {
   "cell_type": "markdown",
   "metadata": {},
   "source": [
    "The figure below is showing the fitted third degree polynom to the aggregated points of doc visits."
   ]
  },
  {
   "cell_type": "code",
   "execution_count": 241,
   "metadata": {
    "scrolled": false
   },
   "outputs": [
    {
     "data": {
      "image/png": "[encoded data removed]",
      "text/plain": [
       "<matplotlib.figure.Figure at 0x10ea68a90>"
      ]
     },
     "metadata": {},
     "output_type": "display_data"
    }
   ],
   "source": [
    "import matplotlib.pyplot as plt\n",
    "\n",
    "avg_err = plot_interpolated_points(df['avg'], 'average', plt, 'ro')\n",
    "min_err = plot_interpolated_points(df['min'], 'min', plt, 'bs')\n",
    "median_err = plot_interpolated_points(df['median'], 'median', plt, 'g^')\n",
    "\n",
    "x_labels = list(generate_range(10))[1:]\n",
    "plt.xticks(range(len(x_labels)), x_labels)\n",
    "\n",
    "plt.legend(['avg $MSE={}$'.format(avg_err),\n",
    "            'min $MSE={}$'.format(min_err),\n",
    "            'med $MSE={}$'.format(median_err)], loc='best')\n",
    "\n",
    "plt.xlabel('Age groups')\n",
    "plt.ylabel('Doc visits')\n",
    "\n",
    "plt.tight_layout()\n",
    "plt.show()"
   ]
  },
  {
   "cell_type": "code",
   "execution_count": null,
   "metadata": {},
   "outputs": [],
   "source": []
  }
 ],
 "metadata": {
  "kernelspec": {
   "display_name": "Python 3",
   "language": "python",
   "name": "python3"
  },
  "language_info": {
   "codemirror_mode": {
    "name": "ipython",
    "version": 3
   },
   "file_extension": ".py",
   "mimetype": "text/x-python",
   "name": "python",
   "nbconvert_exporter": "python",
   "pygments_lexer": "ipython3",
   "version": "3.5.4"
  }
 },
 "nbformat": 4,
 "nbformat_minor": 2
}
