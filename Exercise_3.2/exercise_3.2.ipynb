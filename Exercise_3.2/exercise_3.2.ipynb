{
 "cells": [
  {
   "cell_type": "code",
   "execution_count": 11,
   "metadata": {},
   "outputs": [],
   "source": [
    "import pyhdb\n",
    "import yaml\n",
    "import pandas as pd\n",
    "from sklearn import linear_model, metrics\n",
    "import numpy as np\n",
    "from random import shuffle"
   ]
  },
  {
   "cell_type": "code",
   "execution_count": 4,
   "metadata": {},
   "outputs": [],
   "source": [
    "with open('../credentials.yml', 'r') as f:\n",
    "    credentials = yaml.load(f)"
   ]
  },
  {
   "cell_type": "code",
   "execution_count": 5,
   "metadata": {},
   "outputs": [],
   "source": [
    "connection = pyhdb.connect(**credentials)\n",
    "cursor = connection.cursor()"
   ]
  },
  {
   "cell_type": "code",
   "execution_count": 6,
   "metadata": {},
   "outputs": [],
   "source": [
    "query = '''\n",
    "select distinct h.category, 2012 - p.yearofbirth age, case when p.gender = 'F' then 0 else 1 end gender,\n",
    "            ts.bmi, ts.systolicbp, ts.diastolicbp\n",
    "from \"Patient\" p, \"PatientSmokingStatus\" pss, smokingstatushelper h, (\n",
    "    select avg(bmi) bmi, avg(systolicbp) systolicbp, avg(diastolicbp) diastolicbp, patientguid\n",
    "    from \"Transcript\" where bmi != 0 and systolicbp != 0 and diastolicbp != 0 group by patientguid\n",
    ") ts\n",
    "where p.patientguid=pss.patientguid and h.smokingstatusguid=pss.smokingstatusguid and ts.patientguid=p.patientguid\n",
    "'''\n",
    "cursor.execute(query)\n",
    "result = cursor.fetchall()"
   ]
  },
  {
   "cell_type": "code",
   "execution_count": 7,
   "metadata": {},
   "outputs": [
    {
     "name": "stdout",
     "output_type": "stream",
     "text": [
      "result size: 4504\n"
     ]
    }
   ],
   "source": [
    "print('result size: ' + str(len(result)))"
   ]
  },
  {
   "cell_type": "code",
   "execution_count": 42,
   "metadata": {},
   "outputs": [
    {
     "name": "stdout",
     "output_type": "stream",
     "text": [
      "R2 for the systolic model: 0.109578611283\n",
      "R2 for the diastolic model: -0.0372055027138\n",
      "\n",
      "Blood pressure examples:\n",
      "Predicted blood pressure for patient(smoking status: 0, age: 20, gender: 0, bmi: 20): [108][80]\n",
      "Predicted blood pressure for patient(smoking status: 0, age: 20, gender: 0, bmi: 30): [118][80]\n",
      "Predicted blood pressure for patient(smoking status: 3, age: 45, gender: 0, bmi: 32): [120][80]\n",
      "Predicted blood pressure for patient(smoking status: 4, age: 20, gender: 0, bmi: 15): [101][69]\n",
      "Predicted blood pressure for patient(smoking status: 7, age: 90, gender: 1, bmi: 35): [132][74]\n"
     ]
    }
   ],
   "source": [
    "def calculate_r2(x, y, bp):\n",
    "    x_pred, y_true = [], []\n",
    "    x_model, y_model = [], []\n",
    "\n",
    "    random_list = list(range(len(x)))\n",
    "    shuffle(random_list)\n",
    "    cutting_point = round(len(x) * 0.8)\n",
    "    for i in random_list:\n",
    "        if i < cutting_point:\n",
    "            x_model.append(x[i])\n",
    "            y_model.append(y[i])\n",
    "        else:\n",
    "            x_pred.append(x[i])\n",
    "            y_true.append(y[i])\n",
    "\n",
    "    model = linear_model.LogisticRegression()\n",
    "    model.fit(x_model, y_model)\n",
    "    y_pred = model.predict(x_pred)\n",
    "    print('R2 for the ' + bp + ' model: ' + str(metrics.r2_score(y_true, y_pred)))\n",
    "    \n",
    "def predict(model_s, model_d, patient_data):\n",
    "    result_s = model_s.predict([patient_data])\n",
    "    result_d = model_d.predict([patient_data])\n",
    "    print('Predicted blood pressure for patient' +\n",
    "          '(smoking status: {}, age: {}, gender: {}, bmi: {}): {}{}'.format(patient_data[0],\n",
    "                                                                              patient_data[1],\n",
    "                                                                              patient_data[2],\n",
    "                                                                              patient_data[3],\n",
    "                                                                              result_s, result_d))\n",
    "\n",
    "def prepare_data(data, blood_pressure):\n",
    "    new_data = [[x[0], x[1], x[2], round(x[3])] for x in data]\n",
    "    \n",
    "    if blood_pressure == 'systolic':\n",
    "        return new_data, [round(x[4]) for x in data]\n",
    "    elif blood_pressure == 'diastolic':\n",
    "        return new_data, [round(x[5]) for x in data]\n",
    "\n",
    "x, y = prepare_data(result, 'systolic')\n",
    "calculate_r2(x, y, 'systolic')\n",
    "model_s = linear_model.LogisticRegression()\n",
    "model_s.fit(x, y)\n",
    "\n",
    "x, y = prepare_data(result, 'diastolic')\n",
    "calculate_r2(x, y, 'diastolic')\n",
    "model_d = linear_model.LogisticRegression()\n",
    "model_d.fit(x, y)\n",
    "\n",
    "print('\\nBlood pressure examples:')\n",
    "predict(model_s, model_d, [0, 20, 0, 20])\n",
    "predict(model_s, model_d, [0, 20, 0, 30])\n",
    "predict(model_s, model_d, [3, 45, 0, 32])\n",
    "predict(model_s, model_d, [4, 20, 0, 15])\n",
    "predict(model_s, model_d, [7, 90, 1, 35])    "
   ]
  },
  {
   "cell_type": "code",
   "execution_count": null,
   "metadata": {},
   "outputs": [],
   "source": [
    "\n",
    "    \n",
    "    "
   ]
  },
  {
   "cell_type": "code",
   "execution_count": null,
   "metadata": {},
   "outputs": [],
   "source": []
  }
 ],
 "metadata": {
  "kernelspec": {
   "display_name": "Python 3",
   "language": "python",
   "name": "python3"
  },
  "language_info": {
   "codemirror_mode": {
    "name": "ipython",
    "version": 3
   },
   "file_extension": ".py",
   "mimetype": "text/x-python",
   "name": "python",
   "nbconvert_exporter": "python",
   "pygments_lexer": "ipython3",
   "version": "3.5.4"
  }
 },
 "nbformat": 4,
 "nbformat_minor": 2
}
