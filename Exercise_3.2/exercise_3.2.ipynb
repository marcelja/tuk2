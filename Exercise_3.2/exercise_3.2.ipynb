{
 "cells": [
  {
   "cell_type": "code",
   "execution_count": 1,
   "metadata": {},
   "outputs": [],
   "source": [
    "import pyhdb\n",
    "import yaml\n",
    "import pandas as pd"
   ]
  },
  {
   "cell_type": "markdown",
   "metadata": {},
   "source": [
    "# Establish connection to HANA"
   ]
  },
  {
   "cell_type": "code",
   "execution_count": 2,
   "metadata": {},
   "outputs": [],
   "source": [
    "with open('../credentials.yml', 'r') as f:\n",
    "    credentials = yaml.load(f)\n",
    "connection = pyhdb.connect(**credentials)\n",
    "cursor = connection.cursor()    "
   ]
  },
  {
   "cell_type": "markdown",
   "metadata": {},
   "source": [
    "# Get Data\n",
    "The following query is selecting the features for our linear regression by joining the patients with their transcripts and their blood values."
   ]
  },
  {
   "cell_type": "code",
   "execution_count": 99,
   "metadata": {},
   "outputs": [],
   "source": [
    "query = '''\n",
    "select distinct h.category, 2012 - p.yearofbirth age, \n",
    "case when p.gender = 'F' then 0 else 1 end gender,\n",
    "            ts.bmi, ts.systolicbp, ts.diastolicbp\n",
    "from \"Patient\" p, \"PatientSmokingStatus\" pss, smokingstatushelper h, (\n",
    "    select avg(bmi) bmi, avg(systolicbp) systolicbp, avg(diastolicbp) diastolicbp,\n",
    "    patientguid\n",
    "    from \"Transcript\" where bmi != 0 and systolicbp != 0 and diastolicbp != 0 group by\n",
    "    patientguid\n",
    ") ts\n",
    "where p.patientguid=pss.patientguid and h.smokingstatusguid=pss.smokingstatusguid and\n",
    "ts.patientguid=p.patientguid\n",
    "'''\n",
    "cursor.execute(query)\n",
    "result = cursor.fetchall()"
   ]
  },
  {
   "cell_type": "code",
   "execution_count": 100,
   "metadata": {},
   "outputs": [
    {
     "data": {
      "text/html": [
       "<div>\n",
       "<style scoped>\n",
       "    .dataframe tbody tr th:only-of-type {\n",
       "        vertical-align: middle;\n",
       "    }\n",
       "\n",
       "    .dataframe tbody tr th {\n",
       "        vertical-align: top;\n",
       "    }\n",
       "\n",
       "    .dataframe thead th {\n",
       "        text-align: right;\n",
       "    }\n",
       "</style>\n",
       "<table border=\"1\" class=\"dataframe\">\n",
       "  <thead>\n",
       "    <tr style=\"text-align: right;\">\n",
       "      <th></th>\n",
       "      <th>smoking_status</th>\n",
       "      <th>age</th>\n",
       "      <th>gender</th>\n",
       "      <th>bmi</th>\n",
       "      <th>systolic</th>\n",
       "      <th>diastolic</th>\n",
       "    </tr>\n",
       "  </thead>\n",
       "  <tbody>\n",
       "    <tr>\n",
       "      <th>0</th>\n",
       "      <td>2</td>\n",
       "      <td>58</td>\n",
       "      <td>0</td>\n",
       "      <td>51.156317</td>\n",
       "      <td>124.049689</td>\n",
       "      <td>76.633540</td>\n",
       "    </tr>\n",
       "    <tr>\n",
       "      <th>1</th>\n",
       "      <td>5</td>\n",
       "      <td>57</td>\n",
       "      <td>0</td>\n",
       "      <td>26.508474</td>\n",
       "      <td>132.526315</td>\n",
       "      <td>76.526315</td>\n",
       "    </tr>\n",
       "    <tr>\n",
       "      <th>2</th>\n",
       "      <td>2</td>\n",
       "      <td>81</td>\n",
       "      <td>1</td>\n",
       "      <td>29.135000</td>\n",
       "      <td>159.432835</td>\n",
       "      <td>77.641791</td>\n",
       "    </tr>\n",
       "    <tr>\n",
       "      <th>3</th>\n",
       "      <td>5</td>\n",
       "      <td>73</td>\n",
       "      <td>0</td>\n",
       "      <td>28.837294</td>\n",
       "      <td>138.823529</td>\n",
       "      <td>81.058823</td>\n",
       "    </tr>\n",
       "    <tr>\n",
       "      <th>4</th>\n",
       "      <td>2</td>\n",
       "      <td>43</td>\n",
       "      <td>1</td>\n",
       "      <td>28.225012</td>\n",
       "      <td>124.537500</td>\n",
       "      <td>78.331250</td>\n",
       "    </tr>\n",
       "  </tbody>\n",
       "</table>\n",
       "</div>"
      ],
      "text/plain": [
       "   smoking_status  age  gender        bmi    systolic  diastolic\n",
       "0               2   58       0  51.156317  124.049689  76.633540\n",
       "1               5   57       0  26.508474  132.526315  76.526315\n",
       "2               2   81       1  29.135000  159.432835  77.641791\n",
       "3               5   73       0  28.837294  138.823529  81.058823\n",
       "4               2   43       1  28.225012  124.537500  78.331250"
      ]
     },
     "execution_count": 100,
     "metadata": {},
     "output_type": "execute_result"
    }
   ],
   "source": [
    "df = pd.DataFrame(result)\n",
    "df.columns = ['smoking_status', 'age', 'gender', 'bmi', 'systolic', 'diastolic']\n",
    "df.head()"
   ]
  },
  {
   "cell_type": "markdown",
   "metadata": {},
   "source": [
    "# Analysis\n",
    "We first have to encode the categorical features correctly that the classifer can understand them. Therefore we use the OneHotEncoder where every category will be encoded within a new binary column."
   ]
  },
  {
   "cell_type": "code",
   "execution_count": 101,
   "metadata": {},
   "outputs": [],
   "source": [
    "from sklearn.preprocessing import OneHotEncoder\n",
    "import numpy as np\n",
    "def encode_categorical_feature(row):\n",
    "    enc = OneHotEncoder(sparse=False)\n",
    "    arr = np.array(row)\n",
    "    arr = arr.reshape(len(arr), 1)\n",
    "    return enc.fit_transform(arr)"
   ]
  },
  {
   "cell_type": "code",
   "execution_count": 102,
   "metadata": {},
   "outputs": [],
   "source": [
    "def add_encoded_feature(row_name, df):\n",
    "    feature_matrix = encode_categorical_feature(df[row_name])\n",
    "    for i in range(len(feature_matrix[0])):\n",
    "        df['{}_{}'.format(row_name, i)] = feature_matrix[:, i]\n",
    "    df = df.drop(row_name, axis=1)\n",
    "    return df"
   ]
  },
  {
   "cell_type": "code",
   "execution_count": 103,
   "metadata": {},
   "outputs": [
    {
     "data": {
      "text/html": [
       "<div>\n",
       "<style scoped>\n",
       "    .dataframe tbody tr th:only-of-type {\n",
       "        vertical-align: middle;\n",
       "    }\n",
       "\n",
       "    .dataframe tbody tr th {\n",
       "        vertical-align: top;\n",
       "    }\n",
       "\n",
       "    .dataframe thead th {\n",
       "        text-align: right;\n",
       "    }\n",
       "</style>\n",
       "<table border=\"1\" class=\"dataframe\">\n",
       "  <thead>\n",
       "    <tr style=\"text-align: right;\">\n",
       "      <th></th>\n",
       "      <th>age</th>\n",
       "      <th>bmi</th>\n",
       "      <th>systolic</th>\n",
       "      <th>diastolic</th>\n",
       "      <th>smoking_status_0</th>\n",
       "      <th>smoking_status_1</th>\n",
       "      <th>smoking_status_2</th>\n",
       "      <th>smoking_status_3</th>\n",
       "      <th>smoking_status_4</th>\n",
       "      <th>smoking_status_5</th>\n",
       "      <th>smoking_status_6</th>\n",
       "      <th>smoking_status_7</th>\n",
       "      <th>gender_0</th>\n",
       "      <th>gender_1</th>\n",
       "    </tr>\n",
       "  </thead>\n",
       "  <tbody>\n",
       "    <tr>\n",
       "      <th>0</th>\n",
       "      <td>58</td>\n",
       "      <td>51.156317</td>\n",
       "      <td>124.049689</td>\n",
       "      <td>76.633540</td>\n",
       "      <td>0.0</td>\n",
       "      <td>0.0</td>\n",
       "      <td>1.0</td>\n",
       "      <td>0.0</td>\n",
       "      <td>0.0</td>\n",
       "      <td>0.0</td>\n",
       "      <td>0.0</td>\n",
       "      <td>0.0</td>\n",
       "      <td>1.0</td>\n",
       "      <td>0.0</td>\n",
       "    </tr>\n",
       "    <tr>\n",
       "      <th>1</th>\n",
       "      <td>57</td>\n",
       "      <td>26.508474</td>\n",
       "      <td>132.526315</td>\n",
       "      <td>76.526315</td>\n",
       "      <td>0.0</td>\n",
       "      <td>0.0</td>\n",
       "      <td>0.0</td>\n",
       "      <td>0.0</td>\n",
       "      <td>0.0</td>\n",
       "      <td>1.0</td>\n",
       "      <td>0.0</td>\n",
       "      <td>0.0</td>\n",
       "      <td>1.0</td>\n",
       "      <td>0.0</td>\n",
       "    </tr>\n",
       "    <tr>\n",
       "      <th>2</th>\n",
       "      <td>81</td>\n",
       "      <td>29.135000</td>\n",
       "      <td>159.432835</td>\n",
       "      <td>77.641791</td>\n",
       "      <td>0.0</td>\n",
       "      <td>0.0</td>\n",
       "      <td>1.0</td>\n",
       "      <td>0.0</td>\n",
       "      <td>0.0</td>\n",
       "      <td>0.0</td>\n",
       "      <td>0.0</td>\n",
       "      <td>0.0</td>\n",
       "      <td>0.0</td>\n",
       "      <td>1.0</td>\n",
       "    </tr>\n",
       "    <tr>\n",
       "      <th>3</th>\n",
       "      <td>73</td>\n",
       "      <td>28.837294</td>\n",
       "      <td>138.823529</td>\n",
       "      <td>81.058823</td>\n",
       "      <td>0.0</td>\n",
       "      <td>0.0</td>\n",
       "      <td>0.0</td>\n",
       "      <td>0.0</td>\n",
       "      <td>0.0</td>\n",
       "      <td>1.0</td>\n",
       "      <td>0.0</td>\n",
       "      <td>0.0</td>\n",
       "      <td>1.0</td>\n",
       "      <td>0.0</td>\n",
       "    </tr>\n",
       "    <tr>\n",
       "      <th>4</th>\n",
       "      <td>43</td>\n",
       "      <td>28.225012</td>\n",
       "      <td>124.537500</td>\n",
       "      <td>78.331250</td>\n",
       "      <td>0.0</td>\n",
       "      <td>0.0</td>\n",
       "      <td>1.0</td>\n",
       "      <td>0.0</td>\n",
       "      <td>0.0</td>\n",
       "      <td>0.0</td>\n",
       "      <td>0.0</td>\n",
       "      <td>0.0</td>\n",
       "      <td>0.0</td>\n",
       "      <td>1.0</td>\n",
       "    </tr>\n",
       "  </tbody>\n",
       "</table>\n",
       "</div>"
      ],
      "text/plain": [
       "   age        bmi    systolic  diastolic  smoking_status_0  smoking_status_1  \\\n",
       "0   58  51.156317  124.049689  76.633540               0.0               0.0   \n",
       "1   57  26.508474  132.526315  76.526315               0.0               0.0   \n",
       "2   81  29.135000  159.432835  77.641791               0.0               0.0   \n",
       "3   73  28.837294  138.823529  81.058823               0.0               0.0   \n",
       "4   43  28.225012  124.537500  78.331250               0.0               0.0   \n",
       "\n",
       "   smoking_status_2  smoking_status_3  smoking_status_4  smoking_status_5  \\\n",
       "0               1.0               0.0               0.0               0.0   \n",
       "1               0.0               0.0               0.0               1.0   \n",
       "2               1.0               0.0               0.0               0.0   \n",
       "3               0.0               0.0               0.0               1.0   \n",
       "4               1.0               0.0               0.0               0.0   \n",
       "\n",
       "   smoking_status_6  smoking_status_7  gender_0  gender_1  \n",
       "0               0.0               0.0       1.0       0.0  \n",
       "1               0.0               0.0       1.0       0.0  \n",
       "2               0.0               0.0       0.0       1.0  \n",
       "3               0.0               0.0       1.0       0.0  \n",
       "4               0.0               0.0       0.0       1.0  "
      ]
     },
     "execution_count": 103,
     "metadata": {},
     "output_type": "execute_result"
    }
   ],
   "source": [
    "df = add_encoded_feature('smoking_status', df)\n",
    "df = add_encoded_feature('gender', df)\n",
    "df.head()"
   ]
  },
  {
   "cell_type": "markdown",
   "metadata": {},
   "source": [
    "After a first evaluation we have noticed that very high bmi values are very likely noise data and decreasing the accuracy of the model. So we have decided to limit the bmi to 55."
   ]
  },
  {
   "cell_type": "code",
   "execution_count": 105,
   "metadata": {},
   "outputs": [],
   "source": [
    "# Filter bmi https://www.nhlbi.nih.gov/health/educational/lose_wt/BMI/bmi_tbl.pdf\n",
    "df = df[df['bmi'] < 55]"
   ]
  },
  {
   "cell_type": "code",
   "execution_count": 106,
   "metadata": {},
   "outputs": [],
   "source": [
    "Y = df[['systolic', 'diastolic']]\n",
    "X = df.drop(['systolic', 'diastolic'], axis=1)"
   ]
  },
  {
   "cell_type": "markdown",
   "metadata": {},
   "source": [
    "Currently we are using a $\\frac{1}{3}$ to $\\frac{2}{3}$ test to train split and every run a random sample is used. So the accuracy might differ slightly."
   ]
  },
  {
   "cell_type": "code",
   "execution_count": 155,
   "metadata": {},
   "outputs": [],
   "source": [
    "from sklearn.model_selection import train_test_split\n",
    "from sklearn.linear_model import LinearRegression\n",
    "\n",
    "def train_and_predict(features, y):\n",
    "    X_train, X_test, Y_train, Y_test = train_test_split(features, y, test_size=0.33)\n",
    "    lr = LinearRegression()\n",
    "    lr.fit(X_train, Y_train)\n",
    "    return lr.score(X_test, Y_test)"
   ]
  },
  {
   "cell_type": "code",
   "execution_count": 156,
   "metadata": {},
   "outputs": [
    {
     "data": {
      "text/plain": [
       "0.181375345880188"
      ]
     },
     "execution_count": 156,
     "metadata": {},
     "output_type": "execute_result"
    }
   ],
   "source": [
    "train_and_predict(X, Y['systolic'])"
   ]
  },
  {
   "cell_type": "code",
   "execution_count": 157,
   "metadata": {},
   "outputs": [
    {
     "data": {
      "text/plain": [
       "0.10174050223884823"
      ]
     },
     "execution_count": 157,
     "metadata": {},
     "output_type": "execute_result"
    }
   ],
   "source": [
    "train_and_predict(X, Y['diastolic'])"
   ]
  }
 ],
 "metadata": {
  "kernelspec": {
   "display_name": "Python 3",
   "language": "python",
   "name": "python3"
  },
  "language_info": {
   "codemirror_mode": {
    "name": "ipython",
    "version": 3
   },
   "file_extension": ".py",
   "mimetype": "text/x-python",
   "name": "python",
   "nbconvert_exporter": "python",
   "pygments_lexer": "ipython3",
   "version": "3.5.4"
  }
 },
 "nbformat": 4,
 "nbformat_minor": 2
}
