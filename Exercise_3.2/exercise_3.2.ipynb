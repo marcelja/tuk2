{
 "cells": [
  {
   "cell_type": "code",
   "execution_count": 46,
   "metadata": {},
   "outputs": [],
   "source": [
    "import pyhdb\n",
    "import yaml\n",
    "import pandas as pd\n",
    "from sklearn import linear_model\n",
    "import numpy as np"
   ]
  },
  {
   "cell_type": "code",
   "execution_count": 4,
   "metadata": {},
   "outputs": [],
   "source": [
    "with open('../credentials.yml', 'r') as f:\n",
    "    credentials = yaml.load(f)"
   ]
  },
  {
   "cell_type": "code",
   "execution_count": 5,
   "metadata": {},
   "outputs": [],
   "source": [
    "connection = pyhdb.connect(**credentials)\n",
    "cursor = connection.cursor()"
   ]
  },
  {
   "cell_type": "code",
   "execution_count": 10,
   "metadata": {},
   "outputs": [],
   "source": [
    "query = '''\n",
    "select distinct h.category, 2012 - p.yearofbirth age, case when p.gender = 'F' then 0 else 1 end gender,\n",
    "            ts.bmi, ts.systolicbp, ts.diastolicbp\n",
    "from \"Patient\" p, \"PatientSmokingStatus\" pss, smokingstatushelper h, (\n",
    "    select avg(bmi) bmi, avg(systolicbp) systolicbp, avg(diastolicbp) diastolicbp, patientguid\n",
    "    from \"Transcript\" where bmi != 0 and systolicbp != 0 and diastolicbp != 0 group by patientguid\n",
    ") ts\n",
    "where p.patientguid=pss.patientguid and h.smokingstatusguid=pss.smokingstatusguid and ts.patientguid=p.patientguid\n",
    "'''\n",
    "cursor.execute(query)\n",
    "result = cursor.fetchall()"
   ]
  },
  {
   "cell_type": "code",
   "execution_count": 11,
   "metadata": {},
   "outputs": [
    {
     "name": "stdout",
     "output_type": "stream",
     "text": [
      "result size: 4504\n"
     ]
    }
   ],
   "source": [
    "print('result size: ' + str(len(result)))"
   ]
  },
  {
   "cell_type": "code",
   "execution_count": 72,
   "metadata": {},
   "outputs": [
    {
     "name": "stdout",
     "output_type": "stream",
     "text": [
      "Predicted blood pressure for patient ...[157][100]\n"
     ]
    }
   ],
   "source": [
    "def predict(model_s, model_d, patient_data):\n",
    "    result_s = model_s.predict([patient_data])\n",
    "    result_d = model_d.predict([patient_data])\n",
    "    print('Predicted blood pressure for patient ...{}{}'.format(result_s, result_d))\n",
    "\n",
    "def prepare_data(data, blood_pressure):\n",
    "    new_data = [[x[0], x[2], x[3], x[4]] for x in data]\n",
    "    \n",
    "    if blood_pressure == 'systolic':\n",
    "        return new_data, [round(x[4]) for x in data]\n",
    "    elif blood_pressure == 'diastolic':\n",
    "        return new_data, [round(x[5]) for x in data]\n",
    "        \n",
    "x, y = prepare_data(result, 'systolic')\n",
    "model_s = linear_model.LogisticRegression()\n",
    "model_s.fit(x, y)\n",
    "\n",
    "x, y = prepare_data(result, 'diastolic')\n",
    "model_d = linear_model.LogisticRegression()\n",
    "model_d.fit(x, y)\n",
    "\n",
    "predict(model_s, model_d, [6, 50, 0, 23])\n",
    "    "
   ]
  },
  {
   "cell_type": "code",
   "execution_count": null,
   "metadata": {},
   "outputs": [],
   "source": []
  },
  {
   "cell_type": "code",
   "execution_count": null,
   "metadata": {},
   "outputs": [],
   "source": []
  }
 ],
 "metadata": {
  "kernelspec": {
   "display_name": "Python 3",
   "language": "python",
   "name": "python3"
  },
  "language_info": {
   "codemirror_mode": {
    "name": "ipython",
    "version": 3
   },
   "file_extension": ".py",
   "mimetype": "text/x-python",
   "name": "python",
   "nbconvert_exporter": "python",
   "pygments_lexer": "ipython3",
   "version": "3.5.4"
  }
 },
 "nbformat": 4,
 "nbformat_minor": 2
}
